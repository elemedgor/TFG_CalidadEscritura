{
 "cells": [
  {
   "cell_type": "code",
   "execution_count": 1,
   "id": "a90b1c87",
   "metadata": {
    "_cell_guid": "b1076dfc-b9ad-4769-8c92-a6c4dae69d19",
    "_uuid": "8f2839f25d086af736a60e9eeb907d3b93b6e0e5",
    "execution": {
     "iopub.execute_input": "2024-01-24T17:57:13.901975Z",
     "iopub.status.busy": "2024-01-24T17:57:13.901156Z",
     "iopub.status.idle": "2024-01-24T17:57:14.856083Z",
     "shell.execute_reply": "2024-01-24T17:57:14.854984Z"
    },
    "papermill": {
     "duration": 0.976642,
     "end_time": "2024-01-24T17:57:14.858862",
     "exception": false,
     "start_time": "2024-01-24T17:57:13.882220",
     "status": "completed"
    },
    "tags": []
   },
   "outputs": [
    {
     "name": "stdout",
     "output_type": "stream",
     "text": [
      "/kaggle/input/linking-writing-processes-to-writing-quality/sample_submission.csv\n",
      "/kaggle/input/linking-writing-processes-to-writing-quality/test_logs.csv\n",
      "/kaggle/input/linking-writing-processes-to-writing-quality/train_scores.csv\n",
      "/kaggle/input/linking-writing-processes-to-writing-quality/train_logs.csv\n"
     ]
    }
   ],
   "source": [
    "# This Python 3 environment comes with many helpful analytics libraries installed\n",
    "# It is defined by the kaggle/python Docker image: https://github.com/kaggle/docker-python\n",
    "# For example, here's several helpful packages to load\n",
    "\n",
    "import numpy as np # linear algebra\n",
    "import pandas as pd # data processing, CSV file I/O (e.g. pd.read_csv)\n",
    "\n",
    "# Input data files are available in the read-only \"../input/\" directory\n",
    "# For example, running this (by clicking run or pressing Shift+Enter) will list all files under the input directory\n",
    "\n",
    "import os\n",
    "for dirname, _, filenames in os.walk('/kaggle/input'):\n",
    "    for filename in filenames:\n",
    "        print(os.path.join(dirname, filename))\n",
    "\n",
    "# You can writeup to 20GB to the current directory (/kaggle/working/) that gets preserved as output when you create a version using \"Save & Run All\" \n",
    "# You can also write temporary files to /kaggle/temp/, but they won't be saved outside of the current session"
   ]
  },
  {
   "cell_type": "code",
   "execution_count": 2,
   "id": "61fa521a",
   "metadata": {
    "execution": {
     "iopub.execute_input": "2024-01-24T17:57:14.893706Z",
     "iopub.status.busy": "2024-01-24T17:57:14.893196Z",
     "iopub.status.idle": "2024-01-24T17:57:31.575635Z",
     "shell.execute_reply": "2024-01-24T17:57:31.574528Z"
    },
    "papermill": {
     "duration": 16.702923,
     "end_time": "2024-01-24T17:57:31.578231",
     "exception": false,
     "start_time": "2024-01-24T17:57:14.875308",
     "status": "completed"
    },
    "tags": []
   },
   "outputs": [],
   "source": [
    "train_logs = pd.read_csv('/kaggle/input/linking-writing-processes-to-writing-quality/train_logs.csv')\n",
    "test_logs = pd.read_csv('/kaggle/input/linking-writing-processes-to-writing-quality/test_logs.csv')\n",
    "train_scores = pd.read_csv('/kaggle/input/linking-writing-processes-to-writing-quality/train_scores.csv')"
   ]
  },
  {
   "cell_type": "code",
   "execution_count": 3,
   "id": "20feca07",
   "metadata": {
    "execution": {
     "iopub.execute_input": "2024-01-24T17:57:31.614386Z",
     "iopub.status.busy": "2024-01-24T17:57:31.613445Z",
     "iopub.status.idle": "2024-01-24T17:57:31.621467Z",
     "shell.execute_reply": "2024-01-24T17:57:31.620432Z"
    },
    "papermill": {
     "duration": 0.028563,
     "end_time": "2024-01-24T17:57:31.623716",
     "exception": false,
     "start_time": "2024-01-24T17:57:31.595153",
     "status": "completed"
    },
    "tags": []
   },
   "outputs": [
    {
     "data": {
      "text/plain": [
       "(8405898, 11)"
      ]
     },
     "execution_count": 3,
     "metadata": {},
     "output_type": "execute_result"
    }
   ],
   "source": [
    "train_logs.shape #8405898 entradas y 11 variables"
   ]
  },
  {
   "cell_type": "code",
   "execution_count": 4,
   "id": "a4980dc5",
   "metadata": {
    "execution": {
     "iopub.execute_input": "2024-01-24T17:57:31.657866Z",
     "iopub.status.busy": "2024-01-24T17:57:31.657129Z",
     "iopub.status.idle": "2024-01-24T17:57:31.691971Z",
     "shell.execute_reply": "2024-01-24T17:57:31.690932Z"
    },
    "papermill": {
     "duration": 0.054821,
     "end_time": "2024-01-24T17:57:31.694475",
     "exception": false,
     "start_time": "2024-01-24T17:57:31.639654",
     "status": "completed"
    },
    "tags": []
   },
   "outputs": [
    {
     "data": {
      "text/html": [
       "<div>\n",
       "<style scoped>\n",
       "    .dataframe tbody tr th:only-of-type {\n",
       "        vertical-align: middle;\n",
       "    }\n",
       "\n",
       "    .dataframe tbody tr th {\n",
       "        vertical-align: top;\n",
       "    }\n",
       "\n",
       "    .dataframe thead th {\n",
       "        text-align: right;\n",
       "    }\n",
       "</style>\n",
       "<table border=\"1\" class=\"dataframe\">\n",
       "  <thead>\n",
       "    <tr style=\"text-align: right;\">\n",
       "      <th></th>\n",
       "      <th>id</th>\n",
       "      <th>event_id</th>\n",
       "      <th>down_time</th>\n",
       "      <th>up_time</th>\n",
       "      <th>action_time</th>\n",
       "      <th>activity</th>\n",
       "      <th>down_event</th>\n",
       "      <th>up_event</th>\n",
       "      <th>text_change</th>\n",
       "      <th>cursor_position</th>\n",
       "      <th>word_count</th>\n",
       "    </tr>\n",
       "  </thead>\n",
       "  <tbody>\n",
       "    <tr>\n",
       "      <th>0</th>\n",
       "      <td>001519c8</td>\n",
       "      <td>1</td>\n",
       "      <td>4526</td>\n",
       "      <td>4557</td>\n",
       "      <td>31</td>\n",
       "      <td>Nonproduction</td>\n",
       "      <td>Leftclick</td>\n",
       "      <td>Leftclick</td>\n",
       "      <td>NoChange</td>\n",
       "      <td>0</td>\n",
       "      <td>0</td>\n",
       "    </tr>\n",
       "    <tr>\n",
       "      <th>1</th>\n",
       "      <td>001519c8</td>\n",
       "      <td>2</td>\n",
       "      <td>4558</td>\n",
       "      <td>4962</td>\n",
       "      <td>404</td>\n",
       "      <td>Nonproduction</td>\n",
       "      <td>Leftclick</td>\n",
       "      <td>Leftclick</td>\n",
       "      <td>NoChange</td>\n",
       "      <td>0</td>\n",
       "      <td>0</td>\n",
       "    </tr>\n",
       "    <tr>\n",
       "      <th>2</th>\n",
       "      <td>001519c8</td>\n",
       "      <td>3</td>\n",
       "      <td>106571</td>\n",
       "      <td>106571</td>\n",
       "      <td>0</td>\n",
       "      <td>Nonproduction</td>\n",
       "      <td>Shift</td>\n",
       "      <td>Shift</td>\n",
       "      <td>NoChange</td>\n",
       "      <td>0</td>\n",
       "      <td>0</td>\n",
       "    </tr>\n",
       "    <tr>\n",
       "      <th>3</th>\n",
       "      <td>001519c8</td>\n",
       "      <td>4</td>\n",
       "      <td>106686</td>\n",
       "      <td>106777</td>\n",
       "      <td>91</td>\n",
       "      <td>Input</td>\n",
       "      <td>q</td>\n",
       "      <td>q</td>\n",
       "      <td>q</td>\n",
       "      <td>1</td>\n",
       "      <td>1</td>\n",
       "    </tr>\n",
       "    <tr>\n",
       "      <th>4</th>\n",
       "      <td>001519c8</td>\n",
       "      <td>5</td>\n",
       "      <td>107196</td>\n",
       "      <td>107323</td>\n",
       "      <td>127</td>\n",
       "      <td>Input</td>\n",
       "      <td>q</td>\n",
       "      <td>q</td>\n",
       "      <td>q</td>\n",
       "      <td>2</td>\n",
       "      <td>1</td>\n",
       "    </tr>\n",
       "    <tr>\n",
       "      <th>...</th>\n",
       "      <td>...</td>\n",
       "      <td>...</td>\n",
       "      <td>...</td>\n",
       "      <td>...</td>\n",
       "      <td>...</td>\n",
       "      <td>...</td>\n",
       "      <td>...</td>\n",
       "      <td>...</td>\n",
       "      <td>...</td>\n",
       "      <td>...</td>\n",
       "      <td>...</td>\n",
       "    </tr>\n",
       "    <tr>\n",
       "      <th>8405893</th>\n",
       "      <td>fff05981</td>\n",
       "      <td>3615</td>\n",
       "      <td>2063944</td>\n",
       "      <td>2064440</td>\n",
       "      <td>496</td>\n",
       "      <td>Nonproduction</td>\n",
       "      <td>Leftclick</td>\n",
       "      <td>Leftclick</td>\n",
       "      <td>NoChange</td>\n",
       "      <td>1031</td>\n",
       "      <td>240</td>\n",
       "    </tr>\n",
       "    <tr>\n",
       "      <th>8405894</th>\n",
       "      <td>fff05981</td>\n",
       "      <td>3616</td>\n",
       "      <td>2064497</td>\n",
       "      <td>2064497</td>\n",
       "      <td>0</td>\n",
       "      <td>Nonproduction</td>\n",
       "      <td>Shift</td>\n",
       "      <td>Shift</td>\n",
       "      <td>NoChange</td>\n",
       "      <td>1031</td>\n",
       "      <td>240</td>\n",
       "    </tr>\n",
       "    <tr>\n",
       "      <th>8405895</th>\n",
       "      <td>fff05981</td>\n",
       "      <td>3617</td>\n",
       "      <td>2064657</td>\n",
       "      <td>2064765</td>\n",
       "      <td>108</td>\n",
       "      <td>Replace</td>\n",
       "      <td>q</td>\n",
       "      <td>q</td>\n",
       "      <td>q =&gt; q</td>\n",
       "      <td>1031</td>\n",
       "      <td>240</td>\n",
       "    </tr>\n",
       "    <tr>\n",
       "      <th>8405896</th>\n",
       "      <td>fff05981</td>\n",
       "      <td>3618</td>\n",
       "      <td>2069186</td>\n",
       "      <td>2069259</td>\n",
       "      <td>73</td>\n",
       "      <td>Nonproduction</td>\n",
       "      <td>Leftclick</td>\n",
       "      <td>Leftclick</td>\n",
       "      <td>NoChange</td>\n",
       "      <td>1028</td>\n",
       "      <td>240</td>\n",
       "    </tr>\n",
       "    <tr>\n",
       "      <th>8405897</th>\n",
       "      <td>fff05981</td>\n",
       "      <td>3619</td>\n",
       "      <td>2070065</td>\n",
       "      <td>2070133</td>\n",
       "      <td>68</td>\n",
       "      <td>Input</td>\n",
       "      <td>.</td>\n",
       "      <td>.</td>\n",
       "      <td>.</td>\n",
       "      <td>1029</td>\n",
       "      <td>240</td>\n",
       "    </tr>\n",
       "  </tbody>\n",
       "</table>\n",
       "<p>8405898 rows × 11 columns</p>\n",
       "</div>"
      ],
      "text/plain": [
       "               id  event_id  down_time  up_time  action_time       activity  \\\n",
       "0        001519c8         1       4526     4557           31  Nonproduction   \n",
       "1        001519c8         2       4558     4962          404  Nonproduction   \n",
       "2        001519c8         3     106571   106571            0  Nonproduction   \n",
       "3        001519c8         4     106686   106777           91          Input   \n",
       "4        001519c8         5     107196   107323          127          Input   \n",
       "...           ...       ...        ...      ...          ...            ...   \n",
       "8405893  fff05981      3615    2063944  2064440          496  Nonproduction   \n",
       "8405894  fff05981      3616    2064497  2064497            0  Nonproduction   \n",
       "8405895  fff05981      3617    2064657  2064765          108        Replace   \n",
       "8405896  fff05981      3618    2069186  2069259           73  Nonproduction   \n",
       "8405897  fff05981      3619    2070065  2070133           68          Input   \n",
       "\n",
       "        down_event   up_event text_change  cursor_position  word_count  \n",
       "0        Leftclick  Leftclick    NoChange                0           0  \n",
       "1        Leftclick  Leftclick    NoChange                0           0  \n",
       "2            Shift      Shift    NoChange                0           0  \n",
       "3                q          q           q                1           1  \n",
       "4                q          q           q                2           1  \n",
       "...            ...        ...         ...              ...         ...  \n",
       "8405893  Leftclick  Leftclick    NoChange             1031         240  \n",
       "8405894      Shift      Shift    NoChange             1031         240  \n",
       "8405895          q          q      q => q             1031         240  \n",
       "8405896  Leftclick  Leftclick    NoChange             1028         240  \n",
       "8405897          .          .           .             1029         240  \n",
       "\n",
       "[8405898 rows x 11 columns]"
      ]
     },
     "execution_count": 4,
     "metadata": {},
     "output_type": "execute_result"
    }
   ],
   "source": [
    "train_logs"
   ]
  },
  {
   "cell_type": "code",
   "execution_count": 5,
   "id": "55b3f0f7",
   "metadata": {
    "execution": {
     "iopub.execute_input": "2024-01-24T17:57:31.730506Z",
     "iopub.status.busy": "2024-01-24T17:57:31.729573Z",
     "iopub.status.idle": "2024-01-24T17:57:31.754683Z",
     "shell.execute_reply": "2024-01-24T17:57:31.753664Z"
    },
    "papermill": {
     "duration": 0.045663,
     "end_time": "2024-01-24T17:57:31.757179",
     "exception": false,
     "start_time": "2024-01-24T17:57:31.711516",
     "status": "completed"
    },
    "tags": []
   },
   "outputs": [
    {
     "name": "stdout",
     "output_type": "stream",
     "text": [
      "<class 'pandas.core.frame.DataFrame'>\n",
      "RangeIndex: 8405898 entries, 0 to 8405897\n",
      "Data columns (total 11 columns):\n",
      " #   Column           Dtype \n",
      "---  ------           ----- \n",
      " 0   id               object\n",
      " 1   event_id         int64 \n",
      " 2   down_time        int64 \n",
      " 3   up_time          int64 \n",
      " 4   action_time      int64 \n",
      " 5   activity         object\n",
      " 6   down_event       object\n",
      " 7   up_event         object\n",
      " 8   text_change      object\n",
      " 9   cursor_position  int64 \n",
      " 10  word_count       int64 \n",
      "dtypes: int64(6), object(5)\n",
      "memory usage: 705.5+ MB\n"
     ]
    }
   ],
   "source": [
    "train_logs.info()"
   ]
  },
  {
   "cell_type": "markdown",
   "id": "12d3a745",
   "metadata": {
    "papermill": {
     "duration": 0.016554,
     "end_time": "2024-01-24T17:57:31.790863",
     "exception": false,
     "start_time": "2024-01-24T17:57:31.774309",
     "status": "completed"
    },
    "tags": []
   },
   "source": [
    "Columna id"
   ]
  },
  {
   "cell_type": "code",
   "execution_count": 6,
   "id": "603a6dce",
   "metadata": {
    "execution": {
     "iopub.execute_input": "2024-01-24T17:57:31.825944Z",
     "iopub.status.busy": "2024-01-24T17:57:31.825525Z",
     "iopub.status.idle": "2024-01-24T17:57:36.491200Z",
     "shell.execute_reply": "2024-01-24T17:57:36.489996Z"
    },
    "papermill": {
     "duration": 4.686121,
     "end_time": "2024-01-24T17:57:36.493698",
     "exception": false,
     "start_time": "2024-01-24T17:57:31.807577",
     "status": "completed"
    },
    "tags": []
   },
   "outputs": [
    {
     "data": {
      "text/plain": [
       "2471"
      ]
     },
     "execution_count": 6,
     "metadata": {},
     "output_type": "execute_result"
    }
   ],
   "source": [
    "len(train_logs.groupby('id').count())#en realidad lo que tenemos son 2471 observaciones"
   ]
  },
  {
   "cell_type": "code",
   "execution_count": 7,
   "id": "b0e54bb6",
   "metadata": {
    "execution": {
     "iopub.execute_input": "2024-01-24T17:57:36.529597Z",
     "iopub.status.busy": "2024-01-24T17:57:36.529176Z",
     "iopub.status.idle": "2024-01-24T17:57:36.536518Z",
     "shell.execute_reply": "2024-01-24T17:57:36.535262Z"
    },
    "papermill": {
     "duration": 0.028288,
     "end_time": "2024-01-24T17:57:36.539126",
     "exception": false,
     "start_time": "2024-01-24T17:57:36.510838",
     "status": "completed"
    },
    "tags": []
   },
   "outputs": [
    {
     "data": {
      "text/plain": [
       "2471"
      ]
     },
     "execution_count": 7,
     "metadata": {},
     "output_type": "execute_result"
    }
   ],
   "source": [
    "len(train_scores)#confirmamos que coinciden"
   ]
  },
  {
   "cell_type": "markdown",
   "id": "196f9da8",
   "metadata": {
    "papermill": {
     "duration": 0.016879,
     "end_time": "2024-01-24T17:57:36.573405",
     "exception": false,
     "start_time": "2024-01-24T17:57:36.556526",
     "status": "completed"
    },
    "tags": []
   },
   "source": [
    "Columna event_id"
   ]
  },
  {
   "cell_type": "code",
   "execution_count": 8,
   "id": "4a3160df",
   "metadata": {
    "execution": {
     "iopub.execute_input": "2024-01-24T17:57:36.612391Z",
     "iopub.status.busy": "2024-01-24T17:57:36.611295Z",
     "iopub.status.idle": "2024-01-24T17:57:37.702117Z",
     "shell.execute_reply": "2024-01-24T17:57:37.701119Z"
    },
    "papermill": {
     "duration": 1.113917,
     "end_time": "2024-01-24T17:57:37.704624",
     "exception": false,
     "start_time": "2024-01-24T17:57:36.590707",
     "status": "completed"
    },
    "tags": []
   },
   "outputs": [
    {
     "data": {
      "text/html": [
       "<div>\n",
       "<style scoped>\n",
       "    .dataframe tbody tr th:only-of-type {\n",
       "        vertical-align: middle;\n",
       "    }\n",
       "\n",
       "    .dataframe tbody tr th {\n",
       "        vertical-align: top;\n",
       "    }\n",
       "\n",
       "    .dataframe thead th {\n",
       "        text-align: right;\n",
       "    }\n",
       "</style>\n",
       "<table border=\"1\" class=\"dataframe\">\n",
       "  <thead>\n",
       "    <tr style=\"text-align: right;\">\n",
       "      <th></th>\n",
       "      <th>event_id</th>\n",
       "    </tr>\n",
       "    <tr>\n",
       "      <th>id</th>\n",
       "      <th></th>\n",
       "    </tr>\n",
       "  </thead>\n",
       "  <tbody>\n",
       "    <tr>\n",
       "      <th>001519c8</th>\n",
       "      <td>2557</td>\n",
       "    </tr>\n",
       "    <tr>\n",
       "      <th>0022f953</th>\n",
       "      <td>2454</td>\n",
       "    </tr>\n",
       "    <tr>\n",
       "      <th>0042269b</th>\n",
       "      <td>4136</td>\n",
       "    </tr>\n",
       "    <tr>\n",
       "      <th>0059420b</th>\n",
       "      <td>1556</td>\n",
       "    </tr>\n",
       "    <tr>\n",
       "      <th>0075873a</th>\n",
       "      <td>2531</td>\n",
       "    </tr>\n",
       "    <tr>\n",
       "      <th>...</th>\n",
       "      <td>...</td>\n",
       "    </tr>\n",
       "    <tr>\n",
       "      <th>ffb8c745</th>\n",
       "      <td>4739</td>\n",
       "    </tr>\n",
       "    <tr>\n",
       "      <th>ffbef7e5</th>\n",
       "      <td>2604</td>\n",
       "    </tr>\n",
       "    <tr>\n",
       "      <th>ffccd6fd</th>\n",
       "      <td>3063</td>\n",
       "    </tr>\n",
       "    <tr>\n",
       "      <th>ffec5b38</th>\n",
       "      <td>3242</td>\n",
       "    </tr>\n",
       "    <tr>\n",
       "      <th>fff05981</th>\n",
       "      <td>3619</td>\n",
       "    </tr>\n",
       "  </tbody>\n",
       "</table>\n",
       "<p>2471 rows × 1 columns</p>\n",
       "</div>"
      ],
      "text/plain": [
       "          event_id\n",
       "id                \n",
       "001519c8      2557\n",
       "0022f953      2454\n",
       "0042269b      4136\n",
       "0059420b      1556\n",
       "0075873a      2531\n",
       "...            ...\n",
       "ffb8c745      4739\n",
       "ffbef7e5      2604\n",
       "ffccd6fd      3063\n",
       "ffec5b38      3242\n",
       "fff05981      3619\n",
       "\n",
       "[2471 rows x 1 columns]"
      ]
     },
     "execution_count": 8,
     "metadata": {},
     "output_type": "execute_result"
    }
   ],
   "source": [
    "train_logs[['id','event_id']].groupby('id').last()#número de eventos"
   ]
  },
  {
   "cell_type": "code",
   "execution_count": 9,
   "id": "b4aad482",
   "metadata": {
    "execution": {
     "iopub.execute_input": "2024-01-24T17:57:37.742514Z",
     "iopub.status.busy": "2024-01-24T17:57:37.742117Z",
     "iopub.status.idle": "2024-01-24T17:57:40.852405Z",
     "shell.execute_reply": "2024-01-24T17:57:40.851246Z"
    },
    "papermill": {
     "duration": 3.132075,
     "end_time": "2024-01-24T17:57:40.855037",
     "exception": false,
     "start_time": "2024-01-24T17:57:37.722962",
     "status": "completed"
    },
    "tags": []
   },
   "outputs": [
    {
     "data": {
      "text/plain": [
       "<Axes: xlabel='event_id'>"
      ]
     },
     "execution_count": 9,
     "metadata": {},
     "output_type": "execute_result"
    },
    {
     "data": {
      "image/png": "[encoded data removed]",
      "text/plain": [
       "<Figure size 640x480 with 1 Axes>"
      ]
     },
     "metadata": {},
     "output_type": "display_data"
    }
   ],
   "source": [
    "import seaborn as sns\n",
    "sns.boxplot(x=train_logs[['id','event_id']].groupby('id').last()['event_id'])"
   ]
  },
  {
   "cell_type": "markdown",
   "id": "d4a9d2c7",
   "metadata": {
    "papermill": {
     "duration": 0.082576,
     "end_time": "2024-01-24T17:57:40.955881",
     "exception": false,
     "start_time": "2024-01-24T17:57:40.873305",
     "status": "completed"
    },
    "tags": []
   },
   "source": [
    "Columna down_time"
   ]
  },
  {
   "cell_type": "code",
   "execution_count": 10,
   "id": "83be4506",
   "metadata": {
    "execution": {
     "iopub.execute_input": "2024-01-24T17:57:40.994672Z",
     "iopub.status.busy": "2024-01-24T17:57:40.994251Z",
     "iopub.status.idle": "2024-01-24T17:57:41.484567Z",
     "shell.execute_reply": "2024-01-24T17:57:41.483251Z"
    },
    "papermill": {
     "duration": 0.511763,
     "end_time": "2024-01-24T17:57:41.486025",
     "exception": true,
     "start_time": "2024-01-24T17:57:40.974262",
     "status": "failed"
    },
    "tags": []
   },
   "outputs": [
    {
     "ename": "NameError",
     "evalue": "name 'plt' is not defined",
     "output_type": "error",
     "traceback": [
      "\u001b[0;31m---------------------------------------------------------------------------\u001b[0m",
      "\u001b[0;31mNameError\u001b[0m                                 Traceback (most recent call last)",
      "Cell \u001b[0;32mIn[10], line 1\u001b[0m\n\u001b[0;32m----> 1\u001b[0m fig, ax \u001b[38;5;241m=\u001b[39m \u001b[43mplt\u001b[49m\u001b[38;5;241m.\u001b[39msubplots(nrows\u001b[38;5;241m=\u001b[39m \u001b[38;5;241m1\u001b[39m,ncols\u001b[38;5;241m=\u001b[39m\u001b[38;5;241m1\u001b[39m)\n\u001b[1;32m      2\u001b[0m ax\u001b[38;5;241m.\u001b[39mplot(train_scores\u001b[38;5;241m.\u001b[39mid,train_logs[[\u001b[38;5;124m'\u001b[39m\u001b[38;5;124mid\u001b[39m\u001b[38;5;124m'\u001b[39m,\u001b[38;5;124m'\u001b[39m\u001b[38;5;124mdown_time\u001b[39m\u001b[38;5;124m'\u001b[39m]]\u001b[38;5;241m.\u001b[39mgroupby(\u001b[38;5;124m'\u001b[39m\u001b[38;5;124mid\u001b[39m\u001b[38;5;124m'\u001b[39m)\u001b[38;5;241m.\u001b[39mfirst()[\u001b[38;5;124m'\u001b[39m\u001b[38;5;124mdown_time\u001b[39m\u001b[38;5;124m'\u001b[39m] )\u001b[38;5;66;03m#observamos un outlier, habría que estudiarlo.\u001b[39;00m\n",
      "\u001b[0;31mNameError\u001b[0m: name 'plt' is not defined"
     ]
    }
   ],
   "source": [
    "fig, ax = plt.subplots(nrows= 1,ncols=1)\n",
    "ax.plot(train_scores.id,train_logs[['id','down_time']].groupby('id').first()['down_time'] )#observamos un outlier, habría que estudiarlo."
   ]
  },
  {
   "cell_type": "markdown",
   "id": "b79cc1de",
   "metadata": {
    "papermill": {
     "duration": null,
     "end_time": null,
     "exception": null,
     "start_time": null,
     "status": "pending"
    },
    "tags": []
   },
   "source": [
    "Columna up_time"
   ]
  },
  {
   "cell_type": "code",
   "execution_count": null,
   "id": "24ffe589",
   "metadata": {
    "papermill": {
     "duration": null,
     "end_time": null,
     "exception": null,
     "start_time": null,
     "status": "pending"
    },
    "tags": []
   },
   "outputs": [],
   "source": [
    "fig, ax = plt.subplots(nrows= 1,ncols=1)\n",
    "ax.scatter(train_scores.id,train_logs[['id','up_time']].groupby('id').last()['up_time'] ,alpha= 0.1)"
   ]
  },
  {
   "cell_type": "code",
   "execution_count": null,
   "id": "e4c1b21b",
   "metadata": {
    "papermill": {
     "duration": null,
     "end_time": null,
     "exception": null,
     "start_time": null,
     "status": "pending"
    },
    "tags": []
   },
   "outputs": [],
   "source": [
    "(train_logs.up_time-train_logs.down_time < 0).sum()#Lo que sí vemos es que no hay inconsistencias de que up_time sea menor que down_time"
   ]
  },
  {
   "cell_type": "markdown",
   "id": "2be833f6",
   "metadata": {
    "papermill": {
     "duration": null,
     "end_time": null,
     "exception": null,
     "start_time": null,
     "status": "pending"
    },
    "tags": []
   },
   "source": [
    "Columna action_time"
   ]
  },
  {
   "cell_type": "code",
   "execution_count": null,
   "id": "26b618e8",
   "metadata": {
    "papermill": {
     "duration": null,
     "end_time": null,
     "exception": null,
     "start_time": null,
     "status": "pending"
    },
    "tags": []
   },
   "outputs": [],
   "source": [
    "(train_logs['up_time'] - train_logs['down_time'] != train_logs['action_time']).sum()# es consistente con la definición de action time."
   ]
  },
  {
   "cell_type": "code",
   "execution_count": null,
   "id": "8e3bc8f4",
   "metadata": {
    "papermill": {
     "duration": null,
     "end_time": null,
     "exception": null,
     "start_time": null,
     "status": "pending"
    },
    "tags": []
   },
   "outputs": [],
   "source": [
    "train_logs[['id','action_time']].groupby('id').sum()"
   ]
  },
  {
   "cell_type": "code",
   "execution_count": null,
   "id": "a04b80f3",
   "metadata": {
    "papermill": {
     "duration": null,
     "end_time": null,
     "exception": null,
     "start_time": null,
     "status": "pending"
    },
    "tags": []
   },
   "outputs": [],
   "source": [
    "sns.boxplot(x=train_logs[['id','action_time']].groupby('id').sum()['action_time'])"
   ]
  },
  {
   "cell_type": "markdown",
   "id": "d9755bb1",
   "metadata": {
    "papermill": {
     "duration": null,
     "end_time": null,
     "exception": null,
     "start_time": null,
     "status": "pending"
    },
    "tags": []
   },
   "source": [
    "Columna activity"
   ]
  },
  {
   "cell_type": "code",
   "execution_count": null,
   "id": "210535af",
   "metadata": {
    "papermill": {
     "duration": null,
     "end_time": null,
     "exception": null,
     "start_time": null,
     "status": "pending"
    },
    "tags": []
   },
   "outputs": [],
   "source": [
    "print(train_logs.activity.unique())\n",
    "#Las categorías se clasifican en:\n",
    "#Nonproduction,Input,Remove/Cut,Replace,Paste,Move From [] To []"
   ]
  },
  {
   "cell_type": "code",
   "execution_count": null,
   "id": "e8af8f43",
   "metadata": {
    "papermill": {
     "duration": null,
     "end_time": null,
     "exception": null,
     "start_time": null,
     "status": "pending"
    },
    "tags": []
   },
   "outputs": [],
   "source": [
    "#Frecuencia de cada actividad\n",
    "train_logs[['id','activity']].groupby('activity').count().sort_values(by='id',ascending = False)"
   ]
  },
  {
   "cell_type": "code",
   "execution_count": null,
   "id": "a43cf450",
   "metadata": {
    "papermill": {
     "duration": null,
     "end_time": null,
     "exception": null,
     "start_time": null,
     "status": "pending"
    },
    "tags": []
   },
   "outputs": [],
   "source": [
    "#Veamos la frecuencia de los usuarios de las 5 primeras actividades\n",
    "train_logs.loc[train_logs.activity == 'Input',['id','activity']].groupby('id').count()"
   ]
  },
  {
   "cell_type": "code",
   "execution_count": null,
   "id": "da1cbf08",
   "metadata": {
    "papermill": {
     "duration": null,
     "end_time": null,
     "exception": null,
     "start_time": null,
     "status": "pending"
    },
    "tags": []
   },
   "outputs": [],
   "source": [
    "train_logs.loc[train_logs.activity == 'Remove/Cut',['id','activity']].groupby('id').count()"
   ]
  },
  {
   "cell_type": "code",
   "execution_count": null,
   "id": "94d67c8f",
   "metadata": {
    "papermill": {
     "duration": null,
     "end_time": null,
     "exception": null,
     "start_time": null,
     "status": "pending"
    },
    "tags": []
   },
   "outputs": [],
   "source": [
    "train_logs.loc[train_logs.activity == 'Nonproduction',['id','activity']].groupby('id').count().describe()"
   ]
  },
  {
   "cell_type": "code",
   "execution_count": null,
   "id": "52024358",
   "metadata": {
    "papermill": {
     "duration": null,
     "end_time": null,
     "exception": null,
     "start_time": null,
     "status": "pending"
    },
    "tags": []
   },
   "outputs": [],
   "source": [
    "train_logs.loc[train_logs.activity == 'Replace',['id','activity']].groupby('id').count()"
   ]
  },
  {
   "cell_type": "code",
   "execution_count": null,
   "id": "7daa6416",
   "metadata": {
    "papermill": {
     "duration": null,
     "end_time": null,
     "exception": null,
     "start_time": null,
     "status": "pending"
    },
    "tags": []
   },
   "outputs": [],
   "source": [
    "train_logs.loc[train_logs.activity == 'Paste',['id','activity']].groupby('id').count()"
   ]
  },
  {
   "cell_type": "code",
   "execution_count": null,
   "id": "46dce4c8",
   "metadata": {
    "papermill": {
     "duration": null,
     "end_time": null,
     "exception": null,
     "start_time": null,
     "status": "pending"
    },
    "tags": []
   },
   "outputs": [],
   "source": [
    "import matplotlib.pyplot as plt\n",
    "fig, axs = plt.subplots(nrows= 2,ncols=3,figsize=(15, 10))\n",
    "axs[0,0].scatter(train_scores.id,train_logs.loc[train_logs.activity == 'Input',['id','activity']].groupby('id').count()['activity'],alpha=0.1)\n",
    "axs[0,0].set_xlabel('Input')\n",
    "axs[0,1].scatter(train_scores.id,train_scores.merge(train_logs.loc[train_logs.activity == 'Remove/Cut',['id','activity']].groupby('id').count(),on='id',how='left').fillna(0)['activity'],alpha=0.1)\n",
    "axs[0,1].set_xlabel('Remove/Cut')\n",
    "axs[0,2].scatter(train_scores.id,train_logs.loc[train_logs.activity == 'Nonproduction',['id','activity']].groupby('id').count()['activity'],alpha=0.1)\n",
    "axs[0,2].set_xlabel('Nonproduction')\n",
    "axs[1,0].scatter(train_scores.id,train_scores.merge(train_logs.loc[train_logs.activity == 'Replace',['id','activity']].groupby('id').count(),on='id',how='left').fillna(0)['activity'],alpha=0.1)\n",
    "axs[1,0].set_xlabel('Replace')\n",
    "axs[1,1].scatter(train_scores.id,train_scores.merge(train_logs.loc[train_logs.activity == 'Paste',['id','activity']].groupby('id').count(),on='id',how='left').fillna(0)['activity'],alpha=0.1)\n",
    "axs[1,1].set_xlabel('Paste')"
   ]
  },
  {
   "cell_type": "markdown",
   "id": "796ea654",
   "metadata": {
    "papermill": {
     "duration": null,
     "end_time": null,
     "exception": null,
     "start_time": null,
     "status": "pending"
    },
    "tags": []
   },
   "source": [
    "Columna down_event"
   ]
  },
  {
   "cell_type": "code",
   "execution_count": null,
   "id": "fd590d75",
   "metadata": {
    "papermill": {
     "duration": null,
     "end_time": null,
     "exception": null,
     "start_time": null,
     "status": "pending"
    },
    "tags": []
   },
   "outputs": [],
   "source": [
    "train_logs[['id','down_event']].groupby('down_event').count().sort_values(by='id',ascending = False)[:20]"
   ]
  },
  {
   "cell_type": "code",
   "execution_count": null,
   "id": "163f0a3f",
   "metadata": {
    "papermill": {
     "duration": null,
     "end_time": null,
     "exception": null,
     "start_time": null,
     "status": "pending"
    },
    "tags": []
   },
   "outputs": [],
   "source": [
    "train_logs.loc[train_logs.down_event == 'Space',['id','down_event']].groupby('id').count()"
   ]
  },
  {
   "cell_type": "code",
   "execution_count": null,
   "id": "1e902587",
   "metadata": {
    "papermill": {
     "duration": null,
     "end_time": null,
     "exception": null,
     "start_time": null,
     "status": "pending"
    },
    "tags": []
   },
   "outputs": [],
   "source": [
    "fig, ax = plt.subplots(nrows= 1,ncols=1)\n",
    "ax.scatter(train_scores.id,train_logs.loc[train_logs.down_event == 'Space',['id','down_event']].groupby('id').count()['down_event'],alpha = 0.1)"
   ]
  },
  {
   "cell_type": "markdown",
   "id": "94e132d0",
   "metadata": {
    "papermill": {
     "duration": null,
     "end_time": null,
     "exception": null,
     "start_time": null,
     "status": "pending"
    },
    "tags": []
   },
   "source": [
    "Columna up_event"
   ]
  },
  {
   "cell_type": "code",
   "execution_count": null,
   "id": "4a3368a2",
   "metadata": {
    "papermill": {
     "duration": null,
     "end_time": null,
     "exception": null,
     "start_time": null,
     "status": "pending"
    },
    "tags": []
   },
   "outputs": [],
   "source": [
    "train_logs[['id','up_event']].groupby('up_event').count().sort_values(by='id',ascending = False)[:20]"
   ]
  },
  {
   "cell_type": "code",
   "execution_count": null,
   "id": "45720a11",
   "metadata": {
    "papermill": {
     "duration": null,
     "end_time": null,
     "exception": null,
     "start_time": null,
     "status": "pending"
    },
    "tags": []
   },
   "outputs": [],
   "source": [
    "train_logs.loc[train_logs.up_event == 'Backspace',['id','up_event']].groupby('id').count()"
   ]
  },
  {
   "cell_type": "code",
   "execution_count": null,
   "id": "943e9556",
   "metadata": {
    "papermill": {
     "duration": null,
     "end_time": null,
     "exception": null,
     "start_time": null,
     "status": "pending"
    },
    "tags": []
   },
   "outputs": [],
   "source": [
    "train_logs.loc[train_logs.down_event == train_logs.up_event].count()#8405364/8405898*100 = 99.9936473176334"
   ]
  },
  {
   "cell_type": "markdown",
   "id": "0ecdf4d7",
   "metadata": {
    "papermill": {
     "duration": null,
     "end_time": null,
     "exception": null,
     "start_time": null,
     "status": "pending"
    },
    "tags": []
   },
   "source": [
    "Columna text_change"
   ]
  },
  {
   "cell_type": "code",
   "execution_count": null,
   "id": "63ad7517",
   "metadata": {
    "papermill": {
     "duration": null,
     "end_time": null,
     "exception": null,
     "start_time": null,
     "status": "pending"
    },
    "tags": []
   },
   "outputs": [],
   "source": [
    "#Veamos los posibles valores de text_change\n",
    "train_logs[['id','text_change']].groupby('text_change').count().sort_values(by='id',ascending = False)[:20]"
   ]
  },
  {
   "cell_type": "markdown",
   "id": "581328a1",
   "metadata": {
    "papermill": {
     "duration": null,
     "end_time": null,
     "exception": null,
     "start_time": null,
     "status": "pending"
    },
    "tags": []
   },
   "source": [
    "Columna cursor_position"
   ]
  },
  {
   "cell_type": "code",
   "execution_count": null,
   "id": "8ef4e3d3",
   "metadata": {
    "papermill": {
     "duration": null,
     "end_time": null,
     "exception": null,
     "start_time": null,
     "status": "pending"
    },
    "tags": []
   },
   "outputs": [],
   "source": [
    "train_logs[['id','cursor_position']].groupby('id').mean()"
   ]
  },
  {
   "cell_type": "markdown",
   "id": "9ef43ce9",
   "metadata": {
    "papermill": {
     "duration": null,
     "end_time": null,
     "exception": null,
     "start_time": null,
     "status": "pending"
    },
    "tags": []
   },
   "source": [
    "Columna word_count"
   ]
  },
  {
   "cell_type": "code",
   "execution_count": null,
   "id": "51cc744c",
   "metadata": {
    "papermill": {
     "duration": null,
     "end_time": null,
     "exception": null,
     "start_time": null,
     "status": "pending"
    },
    "tags": []
   },
   "outputs": [],
   "source": [
    "train_logs[['id','word_count']].groupby('id').last()"
   ]
  },
  {
   "cell_type": "code",
   "execution_count": null,
   "id": "1c9a695b",
   "metadata": {
    "papermill": {
     "duration": null,
     "end_time": null,
     "exception": null,
     "start_time": null,
     "status": "pending"
    },
    "tags": []
   },
   "outputs": [],
   "source": [
    "sns.boxplot(x=train_logs[['id','word_count']].groupby('id').last()['word_count'])"
   ]
  },
  {
   "cell_type": "markdown",
   "id": "c2d0cff0",
   "metadata": {
    "papermill": {
     "duration": null,
     "end_time": null,
     "exception": null,
     "start_time": null,
     "status": "pending"
    },
    "tags": []
   },
   "source": [
    "Columna Score\n"
   ]
  },
  {
   "cell_type": "code",
   "execution_count": null,
   "id": "22692cb1",
   "metadata": {
    "papermill": {
     "duration": null,
     "end_time": null,
     "exception": null,
     "start_time": null,
     "status": "pending"
    },
    "tags": []
   },
   "outputs": [],
   "source": [
    "train_scores.groupby('score').count()"
   ]
  },
  {
   "cell_type": "code",
   "execution_count": null,
   "id": "87241ec8",
   "metadata": {
    "papermill": {
     "duration": null,
     "end_time": null,
     "exception": null,
     "start_time": null,
     "status": "pending"
    },
    "tags": []
   },
   "outputs": [],
   "source": [
    "train_scores.describe()"
   ]
  },
  {
   "cell_type": "markdown",
   "id": "5af8ef2d",
   "metadata": {
    "papermill": {
     "duration": null,
     "end_time": null,
     "exception": null,
     "start_time": null,
     "status": "pending"
    },
    "tags": []
   },
   "source": [
    "Valores perdidos"
   ]
  },
  {
   "cell_type": "code",
   "execution_count": null,
   "id": "06ec9e7e",
   "metadata": {
    "papermill": {
     "duration": null,
     "end_time": null,
     "exception": null,
     "start_time": null,
     "status": "pending"
    },
    "tags": []
   },
   "outputs": [],
   "source": [
    "train_logs.isnull().sum()# no hay ningún valor perdido"
   ]
  },
  {
   "cell_type": "code",
   "execution_count": null,
   "id": "7b03d1eb",
   "metadata": {
    "papermill": {
     "duration": null,
     "end_time": null,
     "exception": null,
     "start_time": null,
     "status": "pending"
    },
    "tags": []
   },
   "outputs": [],
   "source": [
    "train_scores.isnull().sum()# no hay ningún valor perdido"
   ]
  },
  {
   "cell_type": "markdown",
   "id": "24b4e721",
   "metadata": {
    "papermill": {
     "duration": null,
     "end_time": null,
     "exception": null,
     "start_time": null,
     "status": "pending"
    },
    "tags": []
   },
   "source": [
    "Ingeniería de características"
   ]
  },
  {
   "cell_type": "code",
   "execution_count": null,
   "id": "199627b7",
   "metadata": {
    "execution": {
     "iopub.execute_input": "2024-01-24T17:25:23.234257Z",
     "iopub.status.busy": "2024-01-24T17:25:23.233871Z",
     "iopub.status.idle": "2024-01-24T17:25:23.250651Z",
     "shell.execute_reply": "2024-01-24T17:25:23.249272Z",
     "shell.execute_reply.started": "2024-01-24T17:25:23.234226Z"
    },
    "papermill": {
     "duration": null,
     "end_time": null,
     "exception": null,
     "start_time": null,
     "status": "pending"
    },
    "tags": []
   },
   "outputs": [],
   "source": [
    "#Variables n_*, len_*\n",
    "def n_nonprod(df):\n",
    "    x = df.loc[(df['activity'] == 'Nonproduction')& (df['action_time']>0),\n",
    "               ['id','event_id']].groupby('id').count().rename(\n",
    "        columns = {'event_id':'n_nonprod'}).reset_index()\n",
    "    return x\n",
    "\n",
    "def len_nonprod(df):\n",
    "    x = df.loc[df['activity'] == 'Nonproduction',['id','action_time']].groupby('id').sum().rename(\n",
    "         columns = {'action_time':'len_nonprod'}).reset_index()\n",
    "    return x\n",
    "\n",
    "def n_input(df):\n",
    "    x = df.loc[(df['activity'] == 'Input')& (df['action_time']>0),\n",
    "               ['id','event_id']].groupby('id').count().rename(\n",
    "        columns = {'event_id':'n_input'}).reset_index()\n",
    "    return x\n",
    "\n",
    "def len_input(df):\n",
    "    x = df.loc[df['activity'] == 'Input',['id','action_time']].groupby('id').sum().rename(\n",
    "         columns = {'action_time':'len_input'}).reset_index()\n",
    "    return x\n",
    "\n",
    "def n_replace(df):\n",
    "    x = df.loc[(df['activity'] == 'Replace')& (df['action_time']>0),\n",
    "               ['id','event_id']].groupby('id').count().rename(\n",
    "        columns = {'event_id':'n_replace'}).reset_index()\n",
    "    return x\n",
    "\n",
    "\n",
    "def len_replace(df):\n",
    "    x = df.loc[df['activity'] == 'Replace',['id','action_time']].groupby('id').sum().rename(\n",
    "         columns = {'action_time':'len_replace'}).reset_index()\n",
    "    return x\n",
    "\n",
    "def n_remove(df):\n",
    "    x = df.loc[(df['activity'] == 'Remove/Cut')& (df['action_time']>0),\n",
    "               ['id','event_id']].groupby('id').count().rename(\n",
    "        columns = {'event_id':'n_remove'}).reset_index()\n",
    "    return x\n",
    "\n",
    "def len_remove(df):\n",
    "    x = df.loc[df['activity'] == 'Remove/Cut',['id','action_time']].groupby('id').sum().rename(\n",
    "         columns = {'action_time':'len_remove'}).reset_index()\n",
    "    return x"
   ]
  },
  {
   "cell_type": "code",
   "execution_count": null,
   "id": "6f70dc00",
   "metadata": {
    "execution": {
     "iopub.execute_input": "2024-01-24T17:27:11.654281Z",
     "iopub.status.busy": "2024-01-24T17:27:11.653844Z",
     "iopub.status.idle": "2024-01-24T17:27:11.687027Z",
     "shell.execute_reply": "2024-01-24T17:27:11.685727Z",
     "shell.execute_reply.started": "2024-01-24T17:27:11.654251Z"
    },
    "papermill": {
     "duration": null,
     "end_time": null,
     "exception": null,
     "start_time": null,
     "status": "pending"
    },
    "tags": []
   },
   "outputs": [],
   "source": [
    "def n_words(df):\n",
    "    x = df[['id','word_count']].groupby('id').last()\n",
    "    return x\n",
    "\n",
    "def act_time(df):\n",
    "    x = df.groupby('id')['action_time'].sum().reset_index().rename(\n",
    "        columns = {'action_time':'act_time'})\n",
    "    return x\n",
    "def writing_time(df):\n",
    "    x = pd.DataFrame(df.groupby('id').last()['up_time']).reset_index().rename(columns={'up_time':'writing_time'})\n",
    "    return x\n",
    "\n",
    "def n_events(df):\n",
    "    x = df[['id','event_id']].groupby('id').count().reset_index().rename(columns={'event_id':'n_events'})\n",
    "    return x\n",
    "\n",
    "def punct(df):\n",
    "    x = df.loc[df.down_event.isin(['\"', '.', ',', \"'\", '-', ';', ':', '?', '!', '<', '>', '/',\n",
    "                        '@', '#', '$', '%', '^', '&', '*', '(', ')', '_', '+']),['id','down_event']].groupby('id').count().rename(columns={'down_event':'punct'})\n",
    "    return x\n",
    "    \n",
    "\n",
    "#def arrows(df): correlacion de 0.05\n",
    "#    x = df.loc[df.down_event.isin(['ArrowRight','ArrowLeft','ArrowUp','ArrowDown']),['id','down_event']].groupby('id').count().rename(columns={'down_event' : 'arrows'})\n",
    "#    return x\n",
    "\n",
    "#def comenzar(df):\n",
    "#    x = pd.DataFrame(df.groupby('id').first()['down_time']).reset_index().rename(columns={'down_time':'start_time'})\n",
    "#    return x\n",
    "\n",
    "def cuenta_frases(df):\n",
    "    x = df.loc[df.down_event == '.','id'].count()\n",
    "    return x\n",
    "\n",
    "def cuenta_punct(df):\n",
    "    x = df.loc[df.down_event.isin(['\"', '.', ',', \"'\", '-', ';', ':', '?', '!', '<', '>', '/',\n",
    "                        '@', '#', '$', '%', '^', '&', '*', '(', ')', '_', '+']),'id'].count()  \n",
    "    return x\n",
    "\n",
    "#varianza del proceso,dividir el tiempo de 5 a 10 intervalos y ver el num de frases producidas\n",
    "\n",
    "def numfrases_intervalo(df):\n",
    "    dic = []\n",
    "    for nombre, datos in df.groupby('id'):\n",
    "        dic.append(np.min([cuenta_frases(h) for h in np.array_split(datos,indices_or_sections = 2)]))\n",
    "    x = pd.DataFrame({'id': df.id.unique(),'numfrases_intervalo':dic})\n",
    "    return x   \n",
    "def numpunct_intervalo(df):\n",
    "    dic = []\n",
    "    for nombre, datos in df.groupby('id'):\n",
    "        dic.append(np.max([cuenta_punct(h) for h in np.array_split(datos,indices_or_sections = 5)]))\n",
    "    x = pd.DataFrame({'id': df.id.unique(),'numpunct_intervalo':dic})\n",
    "    return x\n",
    "def cursor_position_mean(df):\n",
    "    x = df[['id','cursor_position']].groupby('id').mean().rename(\n",
    "         columns = {'cursor_position':'cursor_position_mean'}).reset_index()\n",
    "    return x\n",
    "\n",
    "def n_remove2(df):\n",
    "    x = df.loc[df.down_event.isin(['Backspace','Delete']),['id','down_event']].groupby('id').count().rename(columns={'down_event':'n_remove2'})\n",
    "    return x\n",
    "\n",
    "def n_parrafos(df):\n",
    "    x = df.loc[df.down_event=='Enter',['id','down_event']].groupby('id').count().rename(columns={'down_event':'n_parrafos'})\n",
    "    return x\n",
    "def n_dropenter(df):\n",
    "    x = df.loc[(df['text_change'] == '\\n') & (df['activity'] == 'Remove/Cut'),['id','text_change']].groupby('id').count().rename(columns={'text_change':'n_dropenter'}) \n",
    "    return x\n",
    "\n",
    "def doblenter(df):\n",
    "    texto = train_logs.loc[train_logs.down_event=='Enter',['id','event_id','down_event']].groupby('id')\n",
    "    dic = {'id':[],'num_parrafos':[]}\n",
    "    for nombre, datos in texto:\n",
    "        lista = [h for h in datos['event_id']]\n",
    "        dic['id'].append(nombre)\n",
    "        dic['num_parrafos'].append(np.sum([1 if ((h+1 in lista) and (h+2 not in lista)) else 0 for h in lista]))\n",
    "    x = pd.DataFrame(dic)\n",
    "    return x\n",
    "\n",
    "\n",
    "def n_space(df):\n",
    "    x = df.loc[df.down_event=='Space',['id','down_event']].groupby('id').count().rename(columns={'down_event':'n_space'})\n",
    "    return x\n",
    "    \n",
    "def no_change(df):\n",
    "    x = df.loc[df.text_change == 'NoChange',['id','text_change']].groupby('id').count().rename(columns = {'text_change':'num_nochange'})\n",
    "    return x \n",
    "    \n",
    "def cuenta_textchange(df):\n",
    "    x = df.loc[df.activity == 'Replace','text_change'].reset_index(drop=True)\n",
    "    return x \n",
    "\n",
    "def num_shift(df):\n",
    "    x = df.loc[df.down_event == 'Shift',['id','down_event']].groupby('id').count().rename(columns = {'down_event':'num_shift'})\n",
    "    return x"
   ]
  },
  {
   "cell_type": "code",
   "execution_count": null,
   "id": "52ba9c0d",
   "metadata": {
    "execution": {
     "iopub.execute_input": "2024-01-07T11:25:33.771271Z",
     "iopub.status.busy": "2024-01-07T11:25:33.770856Z",
     "iopub.status.idle": "2024-01-07T11:25:33.815968Z",
     "shell.execute_reply": "2024-01-07T11:25:33.814890Z",
     "shell.execute_reply.started": "2024-01-07T11:25:33.771239Z"
    },
    "papermill": {
     "duration": null,
     "end_time": null,
     "exception": null,
     "start_time": null,
     "status": "pending"
    },
    "tags": []
   },
   "outputs": [],
   "source": [
    "train_logs"
   ]
  },
  {
   "cell_type": "code",
   "execution_count": null,
   "id": "0a6c0bae",
   "metadata": {
    "execution": {
     "iopub.execute_input": "2024-01-24T17:27:17.198902Z",
     "iopub.status.busy": "2024-01-24T17:27:17.198431Z",
     "iopub.status.idle": "2024-01-24T17:27:17.209838Z",
     "shell.execute_reply": "2024-01-24T17:27:17.208135Z",
     "shell.execute_reply.started": "2024-01-24T17:27:17.198866Z"
    },
    "papermill": {
     "duration": null,
     "end_time": null,
     "exception": null,
     "start_time": null,
     "status": "pending"
    },
    "tags": []
   },
   "outputs": [],
   "source": [
    "def DatFeatures(df):\n",
    "    dataframe = n_input(df)\n",
    "    features = [len_input,n_nonprod,len_nonprod,n_remove,len_remove,\n",
    "               n_replace,len_replace,n_events,n_words,\n",
    "                act_time,writing_time,punct,numfrases_intervalo,cursor_position_mean,n_remove2,n_parrafos,n_space,n_dropenter,no_change,\n",
    "               num_shift,doblenter]\n",
    "    \n",
    "    for fun in features:\n",
    "        prev_dat = fun(df).fillna(0)\n",
    "        dataframe = dataframe.merge(prev_dat,on='id',how='left').fillna(0)\n",
    "    dataframe['pausa'] = dataframe['writing_time'] - dataframe['act_time']\n",
    "    dataframe['time_by_word'] = (dataframe['writing_time']/dataframe['word_count']).replace([np.inf, np.inf],500000)\n",
    "    dataframe['productivity'] = dataframe['act_time']/dataframe['writing_time']*100\n",
    "    dataframe['n_caracteres2'] = dataframe['n_input'] - dataframe['n_remove2']\n",
    "    dataframe['n_parrafos2'] = dataframe['n_parrafos'] - dataframe['n_dropenter']\n",
    "    dataframe = dataframe.drop(['n_parrafos','n_dropenter'],axis=1)\n",
    "    return dataframe"
   ]
  },
  {
   "cell_type": "code",
   "execution_count": null,
   "id": "2e2f8b7c",
   "metadata": {
    "execution": {
     "iopub.execute_input": "2024-01-24T17:27:17.974539Z",
     "iopub.status.busy": "2024-01-24T17:27:17.974071Z",
     "iopub.status.idle": "2024-01-24T17:28:08.356238Z",
     "shell.execute_reply": "2024-01-24T17:28:08.354978Z",
     "shell.execute_reply.started": "2024-01-24T17:27:17.974498Z"
    },
    "papermill": {
     "duration": null,
     "end_time": null,
     "exception": null,
     "start_time": null,
     "status": "pending"
    },
    "tags": []
   },
   "outputs": [],
   "source": [
    "test_features = DatFeatures(test_logs)\n",
    "train_features = DatFeatures(train_logs)"
   ]
  },
  {
   "cell_type": "code",
   "execution_count": null,
   "id": "6c10ce93",
   "metadata": {
    "execution": {
     "iopub.execute_input": "2024-01-24T17:28:21.205758Z",
     "iopub.status.busy": "2024-01-24T17:28:21.205322Z",
     "iopub.status.idle": "2024-01-24T17:28:21.275987Z",
     "shell.execute_reply": "2024-01-24T17:28:21.274660Z",
     "shell.execute_reply.started": "2024-01-24T17:28:21.205724Z"
    },
    "papermill": {
     "duration": null,
     "end_time": null,
     "exception": null,
     "start_time": null,
     "status": "pending"
    },
    "tags": []
   },
   "outputs": [],
   "source": [
    "train_dat = train_scores.merge(train_features,on='id',how='left')\n",
    "train_dat"
   ]
  },
  {
   "cell_type": "code",
   "execution_count": null,
   "id": "02df4719",
   "metadata": {
    "execution": {
     "iopub.execute_input": "2024-01-24T17:32:28.067840Z",
     "iopub.status.busy": "2024-01-24T17:32:28.067271Z",
     "iopub.status.idle": "2024-01-24T17:32:28.074985Z",
     "shell.execute_reply": "2024-01-24T17:32:28.073280Z",
     "shell.execute_reply.started": "2024-01-24T17:32:28.067795Z"
    },
    "papermill": {
     "duration": null,
     "end_time": null,
     "exception": null,
     "start_time": null,
     "status": "pending"
    },
    "tags": []
   },
   "outputs": [],
   "source": [
    "y = train_dat['score']"
   ]
  },
  {
   "cell_type": "code",
   "execution_count": null,
   "id": "edf74373",
   "metadata": {
    "execution": {
     "iopub.execute_input": "2024-01-24T17:32:22.840489Z",
     "iopub.status.busy": "2024-01-24T17:32:22.839989Z",
     "iopub.status.idle": "2024-01-24T17:32:22.851797Z",
     "shell.execute_reply": "2024-01-24T17:32:22.850032Z",
     "shell.execute_reply.started": "2024-01-24T17:32:22.840449Z"
    },
    "papermill": {
     "duration": null,
     "end_time": null,
     "exception": null,
     "start_time": null,
     "status": "pending"
    },
    "tags": []
   },
   "outputs": [],
   "source": [
    "X_train = train_features.drop('id',axis=1)\n",
    "X_test = test_features.drop('id',axis=1)"
   ]
  },
  {
   "cell_type": "code",
   "execution_count": null,
   "id": "6c347a9d",
   "metadata": {
    "execution": {
     "iopub.execute_input": "2023-12-26T16:29:37.111192Z",
     "iopub.status.busy": "2023-12-26T16:29:37.110840Z",
     "iopub.status.idle": "2023-12-26T16:29:37.167204Z",
     "shell.execute_reply": "2023-12-26T16:29:37.166075Z",
     "shell.execute_reply.started": "2023-12-26T16:29:37.111163Z"
    },
    "papermill": {
     "duration": null,
     "end_time": null,
     "exception": null,
     "start_time": null,
     "status": "pending"
    },
    "tags": []
   },
   "outputs": [],
   "source": [
    "(train_dat.drop('id',axis=1)).corr()#vemos la correlación de las variables con la objetivo."
   ]
  },
  {
   "cell_type": "code",
   "execution_count": null,
   "id": "822e6204",
   "metadata": {
    "execution": {
     "iopub.execute_input": "2024-01-24T17:31:30.765323Z",
     "iopub.status.busy": "2024-01-24T17:31:30.764905Z",
     "iopub.status.idle": "2024-01-24T17:31:31.743053Z",
     "shell.execute_reply": "2024-01-24T17:31:31.741692Z",
     "shell.execute_reply.started": "2024-01-24T17:31:30.765265Z"
    },
    "papermill": {
     "duration": null,
     "end_time": null,
     "exception": null,
     "start_time": null,
     "status": "pending"
    },
    "tags": []
   },
   "outputs": [],
   "source": [
    "import matplotlib.pyplot as plt\n",
    "import seaborn as sns\n",
    "fig, axs = plt.subplots(nrows= 1,ncols=3,figsize = (15,5))\n",
    "sns.histplot(ax=axs[0],data=train_features, x=\"n_events\")\n",
    "sns.histplot(ax=axs[1],data=train_features, x=\"n_input\")\n",
    "sns.histplot(ax=axs[2],data=train_features, x=\"punct\")\n",
    "#observamos gráficas muy sesgadas a la derecha,realizaremos una normalización de las variables y corregiremos esta asimetría."
   ]
  },
  {
   "cell_type": "code",
   "execution_count": null,
   "id": "1a09e230",
   "metadata": {
    "execution": {
     "iopub.execute_input": "2024-01-24T17:32:33.767030Z",
     "iopub.status.busy": "2024-01-24T17:32:33.766597Z",
     "iopub.status.idle": "2024-01-24T17:32:33.928020Z",
     "shell.execute_reply": "2024-01-24T17:32:33.927132Z",
     "shell.execute_reply.started": "2024-01-24T17:32:33.766997Z"
    },
    "papermill": {
     "duration": null,
     "end_time": null,
     "exception": null,
     "start_time": null,
     "status": "pending"
    },
    "tags": []
   },
   "outputs": [],
   "source": [
    "from scipy.stats import skew,boxcox\n",
    "from sklearn.preprocessing import PowerTransformer\n",
    "transformer = PowerTransformer()\n",
    "X_transformed = pd.DataFrame(transformer.fit_transform(X_train))\n",
    "X_transformed.columns = X_train.columns\n",
    "X_test_transformed = pd.DataFrame(transformer.transform(X_test))\n",
    "X_test_transformed.columns = X_test.columns"
   ]
  },
  {
   "cell_type": "code",
   "execution_count": null,
   "id": "2d92586f",
   "metadata": {
    "execution": {
     "iopub.execute_input": "2024-01-24T17:32:35.560936Z",
     "iopub.status.busy": "2024-01-24T17:32:35.559919Z",
     "iopub.status.idle": "2024-01-24T17:32:35.599172Z",
     "shell.execute_reply": "2024-01-24T17:32:35.597884Z",
     "shell.execute_reply.started": "2024-01-24T17:32:35.560899Z"
    },
    "papermill": {
     "duration": null,
     "end_time": null,
     "exception": null,
     "start_time": null,
     "status": "pending"
    },
    "tags": []
   },
   "outputs": [],
   "source": [
    "X_transformed"
   ]
  },
  {
   "cell_type": "code",
   "execution_count": null,
   "id": "1fb3a592",
   "metadata": {
    "execution": {
     "iopub.execute_input": "2024-01-24T17:34:26.830026Z",
     "iopub.status.busy": "2024-01-24T17:34:26.829573Z",
     "iopub.status.idle": "2024-01-24T17:34:26.889357Z",
     "shell.execute_reply": "2024-01-24T17:34:26.887559Z",
     "shell.execute_reply.started": "2024-01-24T17:34:26.829990Z"
    },
    "papermill": {
     "duration": null,
     "end_time": null,
     "exception": null,
     "start_time": null,
     "status": "pending"
    },
    "tags": []
   },
   "outputs": [],
   "source": [
    "correl = (train_scores.drop('id',axis=1)).merge(X_transformed,how='left',left_index=True,right_index=True)\n",
    "correl.corr()#la matriz de correlaciones ha cambiado, en su mayoría éstas han aumentado con respecto a la variable Score."
   ]
  }
 ],
 "metadata": {
  "kaggle": {
   "accelerator": "none",
   "dataSources": [
    {
     "databundleVersionId": 6678907,
     "sourceId": 59291,
     "sourceType": "competition"
    }
   ],
   "dockerImageVersionId": 30558,
   "isGpuEnabled": false,
   "isInternetEnabled": false,
   "language": "python",
   "sourceType": "notebook"
  },
  "kernelspec": {
   "display_name": "Python 3",
   "language": "python",
   "name": "python3"
  },
  "language_info": {
   "codemirror_mode": {
    "name": "ipython",
    "version": 3
   },
   "file_extension": ".py",
   "mimetype": "text/x-python",
   "name": "python",
   "nbconvert_exporter": "python",
   "pygments_lexer": "ipython3",
   "version": "3.10.12"
  },
  "papermill": {
   "default_parameters": {},
   "duration": 32.85244,
   "end_time": "2024-01-24T17:57:42.328952",
   "environment_variables": {},
   "exception": true,
   "input_path": "__notebook__.ipynb",
   "output_path": "__notebook__.ipynb",
   "parameters": {},
   "start_time": "2024-01-24T17:57:09.476512",
   "version": "2.4.0"
  }
 },
 "nbformat": 4,
 "nbformat_minor": 5
}
